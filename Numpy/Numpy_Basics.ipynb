{
 "cells": [
  {
   "cell_type": "markdown",
   "metadata": {
    "collapsed": true
   },
   "source": [
    "# Numpy Basics\n",
    "\n",
    "**Numpy** es el paquete fundamental para la computacion cientifica en Python y es la base de muchos otros paquetes. Aunque sea dificil de creer, Python no fue hecho para ejecutar computaciones numericas pero cuando Python se comenzo a hacer popular en los 90's fue necesario ejecutar operaciones vectoriales mucho mas rapido de que lo Python podia hacer en ese tiempo y Numpy fue creado. Como podemos observar en la imagen Numpy es parte esencial de muchos paquetes populares en Python usados en el campo de Machine Learning. \n",
    "\n",
    "<img src='../data/img/numpy.jpg'>\n",
    "\n",
    "En resumen podemos conlcuir que las ventajas de Numpy son:\n",
    "\n",
    "- Es Open Source y gratis.\n",
    "- Tiene una sintaxis muy amigable.\n",
    "- Es mas eficiente que las lista de Python.\n",
    "- Tiene funciones muy avanzadas y esta muy bien integrado en otras librerias.\n",
    "\n",
    "### Instalar Numpy\n",
    "\n",
    "Para instalar numpy simplemente ejecutamos la siguiente linea de codigo:\n",
    "\n",
    "    - pip3 install numpy\n",
    "    \n",
    "Si queremos una version especifica de numpy:\n",
    "\n",
    "    - pip3 install numpy==<version>\n",
    "\n",
    "\n",
    "## Numpy Arrays\n",
    "\n",
    "Como seguramente sabes lo que hace a Numpy muy util son las matrices multidimensionales o **ndarrays**. Un ejemplo:"
   ]
  },
  {
   "cell_type": "code",
   "execution_count": null,
   "metadata": {},
   "outputs": [],
   "source": [
    "# importamos numpy, para hacer nuestro codigo mas legible lo importamos como np\n",
    "import numpy as np\n",
    "\n",
    "x = np.array([[1,2,3,],[4,5,6]])\n",
    "# imprime la matriz\n",
    "print('Esta es nuestra matriz: ', (x))\n",
    "# imprime el tipo de objeto que es nuestra matriz\n",
    "print('Nuestra matriz es del tipo: ', type(x))\n",
    "# imprime las dimensiones de la matriz\n",
    "print('La dimension de nuestra matriz es: ', x.shape)\n",
    "# imprime el tamano de nuestra matriz\n",
    "print('El tamano de nuestra matriz es: ', x.size)\n",
    "# imprime la dimension de nuestra matriz\n",
    "print('La dimension de nuestra matriz es: ', x.ndim)\n",
    "# imprime el tipo de dato que hay dentro de nuestra matriz\n",
    "print('El tipo de dato de nuestra matriz es: ', x.dtype)\n",
    "# imprime el numero de bytes que hay dentro de nuestra matriz\n",
    "print('El total de bytes en nuestra matriz es: ', x.nbytes)"
   ]
  },
  {
   "cell_type": "markdown",
   "metadata": {},
   "source": [
    "Vamos a ver que sucede cuando usamos un *float*, *complex* o *uint*: "
   ]
  },
  {
   "cell_type": "code",
   "execution_count": null,
   "metadata": {},
   "outputs": [],
   "source": [
    "x = np.array([[1,2,3],[4,5,6]], dtype = np.float)\n",
    "print(x)\n",
    "print(x.nbytes)"
   ]
  },
  {
   "cell_type": "code",
   "execution_count": null,
   "metadata": {},
   "outputs": [],
   "source": [
    "x = np.array([[1,2,3],[4,5,6]], dtype = np.complex)\n",
    "print(x)\n",
    "print(x.nbytes)"
   ]
  },
  {
   "cell_type": "code",
   "execution_count": null,
   "metadata": {},
   "outputs": [],
   "source": [
    "x = np.array([[1,2,3],[4,-5,6]], dtype = np.uint32)\n",
    "print(x)\n",
    "print(x.nbytes)"
   ]
  },
  {
   "cell_type": "markdown",
   "metadata": {},
   "source": [
    "Cada tipo consume un numero distinto de bytes:"
   ]
  },
  {
   "cell_type": "code",
   "execution_count": null,
   "metadata": {},
   "outputs": [],
   "source": [
    "x = np.array([[1,2,3],[4,5,6]], dtype = np.int64)\n",
    "print(\"int64 consume\",x.nbytes, \"bytes\")\n",
    "x = np.array([[1,2,3],[4,5,6]], dtype = np.int32)\n",
    "print(\"int32 consume\",x.nbytes, \"bytes\")"
   ]
  },
  {
   "cell_type": "markdown",
   "metadata": {},
   "source": [
    "Es importante tener en cuenta este tipo de cosas basicas especialmente cuando estamos hablando de Big Data en donde este tipo de conversiones es muy importante para el desempeno. Como podemos ver no podemos modificar el *dtype* de nuestra matriz una vez que la hemos creado, pero lo que si podemos hacer es copiarla y cambiar el *dtype* con el atributo *astype*, un ejemplo:"
   ]
  },
  {
   "cell_type": "code",
   "execution_count": null,
   "metadata": {},
   "outputs": [],
   "source": [
    "copia_x = np.array(x, dtype = np.float)\n",
    "copia_x"
   ]
  },
  {
   "cell_type": "code",
   "execution_count": null,
   "metadata": {},
   "outputs": [],
   "source": [
    "copia_x_int = copia_x.astype(np.int)\n",
    "copia_x_int"
   ]
  },
  {
   "cell_type": "markdown",
   "metadata": {},
   "source": [
    "**Algo muy importante que tenemos que considerar es que *astype* no cambia el *dtype* \"de copia_x\", lo que sucede es que conserva las condiciones originales pero crea \"copia_x_int\"**\n",
    "\n",
    "Hagamos un ejercicio de imaginacion en donde queremos encontrar a un asaltante en una ciudad con 100,000 habitantes y cada estudiante tiene 100 caracteristicas cada uno, obviamente nuestra matriz es [100000, 10]:"
   ]
  },
  {
   "cell_type": "code",
   "execution_count": null,
   "metadata": {},
   "outputs": [],
   "source": [
    "Datos_ciudad= np.random.rand(100000,100)\n",
    "print(type(Datos_ciudad))\n",
    "print(Datos_ciudad.dtype)\n",
    "print(Datos_ciudad.nbytes)\n",
    "Nuevo_Datos_Ciudad = np.array(Datos_ciudad, dtype = np.float32)\n",
    "print(Nuevo_Datos_Ciudad.nbytes)"
   ]
  },
  {
   "cell_type": "markdown",
   "metadata": {},
   "source": [
    "Como podemos ver nuestra primera matriz es un float64 pero la segunda es un float32, la diferencia de bytes es practicamente del 50%,de 80 MB paso a ser de 40 MB, lo que va a pasar es que vamos a tener una reduccion de precision despues del punto decimal, de 16 puntos decimales pasamos a solo 8, esto es importante dependiendo del algoritmo con el que estemos trabajando, cuando tenemos datasets muy grandes podemos quedarnos sin memoria al procesar los datos. \n",
    "\n",
    "## Operaciones con matrices Numpy\n"
   ]
  },
  {
   "cell_type": "code",
   "execution_count": null,
   "metadata": {},
   "outputs": [],
   "source": [
    "mi_lista = [2, 14, 6, 8]\n",
    "mi_matriz = np.asarray(mi_lista)\n",
    "type(mi_matriz)"
   ]
  },
  {
   "cell_type": "code",
   "execution_count": null,
   "metadata": {},
   "outputs": [],
   "source": [
    "# Hagamos un par de operaciones aritmeticas\n",
    "# suma\n",
    "print('le sumamos 2 =', mi_matriz + 2)\n",
    "# resta\n",
    "print('le restamos 2 =', mi_matriz - 2)\n",
    "# multiplicacion\n",
    "print('multiplicamos *2 =', mi_matriz * 2)\n",
    "# division\n",
    "print('dividimos / 2 =', mi_matriz/2)"
   ]
  },
  {
   "cell_type": "markdown",
   "metadata": {},
   "source": [
    "Por que no hicimos las operaciones con la lista? Porque las listas no estan vectorizadas y para hacer operaciones seria necesario iterar cada uno de los elementos dentro de la lista para hacer la operacion ergo numpy no ayuda a hacer esto de manera muy sencilla. Mas ejemplos:"
   ]
  },
  {
   "cell_type": "code",
   "execution_count": null,
   "metadata": {},
   "outputs": [],
   "source": [
    "# una matriz de zeros + 3 \n",
    "segunda_matriz = np.zeros(4) + 3\n",
    "print(segunda_matriz)\n",
    "print(mi_matriz - segunda_matriz)\n",
    "print(segunda_matriz/ mi_matriz)"
   ]
  },
  {
   "cell_type": "code",
   "execution_count": null,
   "metadata": {},
   "outputs": [],
   "source": [
    "# una matriz de unos + 3\n",
    "segunda_matriz = np.ones(4) + 3\n",
    "print(segunda_matriz)\n",
    "print(mi_matriz - segunda_matriz)\n",
    "print(segunda_matriz/mi_matriz)"
   ]
  },
  {
   "cell_type": "code",
   "execution_count": null,
   "metadata": {},
   "outputs": [],
   "source": [
    "# una matriz de identidad\n",
    "segunda_matriz = np.identity(4)\n",
    "print(segunda_matriz)\n",
    "segunda_matriz = np.identity(4) + 3\n",
    "print(segunda_matriz)\n",
    "print(mi_matriz - segunda_matriz) \n",
    "print(segunda_matriz/mi_matriz)"
   ]
  },
  {
   "cell_type": "code",
   "execution_count": null,
   "metadata": {},
   "outputs": [],
   "source": [
    "# usemos el metodo arange, nos genera una matriz con un intervalo entre\n",
    "# el primer y el ultimo valor de nuestra matriz\n",
    "x = np.arange(3,7,0.5)\n",
    "x"
   ]
  },
  {
   "cell_type": "code",
   "execution_count": null,
   "metadata": {},
   "outputs": [],
   "source": [
    "# si no sabemos el invervalo que cada valor debe tener entre si, pero si sabemos \n",
    "# el numero de elementos que deben existir entre el elemento inicial y el final\n",
    "x = np.linspace(1.2, 40.5, num=20)\n",
    "x"
   ]
  },
  {
   "cell_type": "code",
   "execution_count": null,
   "metadata": {},
   "outputs": [],
   "source": [
    "# podemos usar metodos similares con outputs distintos dado que usan una escala diferente\n",
    "# los metodos son 'geomspace' y 'logspace'\n",
    "geo = np.geomspace(1, 625, num=5)\n",
    "print(geo)\n",
    "log = np.logspace(3, 4, num=5)\n",
    "print(log)\n",
    "# 10**3 - 10**4"
   ]
  },
  {
   "cell_type": "code",
   "execution_count": null,
   "metadata": {},
   "outputs": [],
   "source": [
    "# Para respetar el 3 y 4 como nuestros puntos de partida y final tenemos que usar log10\n",
    "log10 = np.logspace(np.log10(3), np.log10(4), num=5)\n",
    "log10"
   ]
  },
  {
   "cell_type": "code",
   "execution_count": null,
   "metadata": {},
   "outputs": [],
   "source": [
    "# comparacion de matrices boolean por elemento\n",
    "x = np.array([1,2,3,4])\n",
    "y = np.array([1,3,4,4])\n",
    "x == y"
   ]
  },
  {
   "cell_type": "code",
   "execution_count": null,
   "metadata": {},
   "outputs": [],
   "source": [
    "# comparacion de matrices boolean matriz entera\n",
    "x = np.array([1,2,3,4])\n",
    "y = np.array([1,3,4,4])\n",
    "np.array_equal(x,y)"
   ]
  },
  {
   "cell_type": "code",
   "execution_count": null,
   "metadata": {},
   "outputs": [],
   "source": [
    "# comparacion logica or\n",
    "x = np.array([0, 1, 0, 0], dtype=bool)\n",
    "y = np.array([1, 1, 0, 1], dtype=bool)\n",
    "np.logical_or(x,y)"
   ]
  },
  {
   "cell_type": "code",
   "execution_count": null,
   "metadata": {},
   "outputs": [],
   "source": [
    "# comparacion logica and\n",
    "np.logical_and(x,y)"
   ]
  },
  {
   "cell_type": "code",
   "execution_count": null,
   "metadata": {},
   "outputs": [],
   "source": [
    "# comparacion logica or\n",
    "np.logical_or(x <13,x > 50)"
   ]
  },
  {
   "cell_type": "code",
   "execution_count": null,
   "metadata": {},
   "outputs": [],
   "source": [
    "# aritmetica con funciones tracendentales\n",
    "x = np.array([1, 2, 3,4 ])\n",
    "np.exp(x)"
   ]
  },
  {
   "cell_type": "code",
   "execution_count": null,
   "metadata": {},
   "outputs": [],
   "source": [
    "np.log(x)"
   ]
  },
  {
   "cell_type": "code",
   "execution_count": null,
   "metadata": {},
   "outputs": [],
   "source": [
    "np.sin(x)"
   ]
  },
  {
   "cell_type": "code",
   "execution_count": null,
   "metadata": {},
   "outputs": [],
   "source": [
    "# tranponer una matriz\n",
    "x = np.arange(9)\n",
    "x"
   ]
  },
  {
   "cell_type": "code",
   "execution_count": null,
   "metadata": {},
   "outputs": [],
   "source": [
    "x = np.arange(9).reshape((3,3))\n",
    "x"
   ]
  },
  {
   "cell_type": "code",
   "execution_count": null,
   "metadata": {},
   "outputs": [],
   "source": [
    "x.T"
   ]
  },
  {
   "cell_type": "code",
   "execution_count": null,
   "metadata": {},
   "outputs": [],
   "source": [
    "# transponer matrices asimetricas\n",
    "x = np.arange(6).reshape(2,3)\n",
    "x"
   ]
  },
  {
   "cell_type": "code",
   "execution_count": null,
   "metadata": {},
   "outputs": [],
   "source": [
    "x.T"
   ]
  },
  {
   "cell_type": "markdown",
   "metadata": {},
   "source": [
    "### Metodos\n",
    "\n",
    "|Metodo|Descripcion|\n",
    "|------|-----------|\n",
    "|np.sum|Regresa la suma total de todos los valores de la matriz o un eje especifico|\n",
    "|np.amin|Regresa el valor minimo de todas las matrices o de un eje especifico|\n",
    "|np.amax|Regresa el valor maximo de todas las matrices o de un eje especifico|\n",
    "|np.percentile|Regresa el percentil de todas las matrices o de un eje especifico|\n",
    "|np.nanmin|Lo mismo que np.amin, pero ignora valore NaN en las matrices|\n",
    "|np.nanmax|Lo mismo que np.amax, pero ignora los valores NaN en las matrices|\n",
    "|np.nanpercentile|Lo mismo que np.percentile, pero ignora los valores NaN en las matrices|\n",
    "\n",
    "Ejemplos:\n"
   ]
  },
  {
   "cell_type": "code",
   "execution_count": null,
   "metadata": {},
   "outputs": [],
   "source": [
    "x = np.arange(9).reshape((3,3))\n",
    "x"
   ]
  },
  {
   "cell_type": "code",
   "execution_count": null,
   "metadata": {},
   "outputs": [],
   "source": [
    "np.sum(x)"
   ]
  },
  {
   "cell_type": "code",
   "execution_count": null,
   "metadata": {},
   "outputs": [],
   "source": [
    "np.amin(x)"
   ]
  },
  {
   "cell_type": "code",
   "execution_count": null,
   "metadata": {},
   "outputs": [],
   "source": [
    "np.amax(x)"
   ]
  },
  {
   "cell_type": "code",
   "execution_count": null,
   "metadata": {},
   "outputs": [],
   "source": [
    "np.amin(x, axis=0)"
   ]
  },
  {
   "cell_type": "code",
   "execution_count": null,
   "metadata": {},
   "outputs": [],
   "source": [
    "np.amin(x, axis=1)"
   ]
  },
  {
   "cell_type": "code",
   "execution_count": null,
   "metadata": {},
   "outputs": [],
   "source": [
    "np.percentile(x, 80)"
   ]
  },
  {
   "cell_type": "code",
   "execution_count": null,
   "metadata": {},
   "outputs": [],
   "source": [
    "# indice de valor maximo\n",
    "x = np.array([1, -21, 3, -3])\n",
    "np.argmax(x)\n"
   ]
  },
  {
   "cell_type": "code",
   "execution_count": null,
   "metadata": {},
   "outputs": [],
   "source": [
    "# indice de valor minimo \n",
    "np.argmin(x)"
   ]
  },
  {
   "cell_type": "markdown",
   "metadata": {},
   "source": [
    "### Metodos\n",
    "\n",
    "|Metodo|Descripcion|\n",
    "|------|-----------|\n",
    "|np.mean|Regresa la media de la matriz o del eje especifico|\n",
    "|np.median|Regresa la mediana de la matriz o del eje especifico|\n",
    "|np.std|Regresa la desviacion estandar de la matriz o del eje especifico|\n",
    "|np.nanmean|Lo mismo que np.mean, pero ignora los valores NaN en la matriz|\n",
    "|np.nanmedian|Lo mismo que np.median, pero ignora los valores NaN en la matriz|\n",
    "|np.nanstd|Lo mismo que np.nanstd, pero ignora los valores NaN en la matriz|\n",
    "\n",
    "Ejemplos:"
   ]
  },
  {
   "cell_type": "code",
   "execution_count": null,
   "metadata": {},
   "outputs": [],
   "source": [
    "x = np.array([[2, 3, 5], [20, 12, 4]])\n",
    "x"
   ]
  },
  {
   "cell_type": "code",
   "execution_count": null,
   "metadata": {},
   "outputs": [],
   "source": [
    "np.mean(x)"
   ]
  },
  {
   "cell_type": "code",
   "execution_count": null,
   "metadata": {},
   "outputs": [],
   "source": [
    "np.mean(x, axis=0)"
   ]
  },
  {
   "cell_type": "code",
   "execution_count": null,
   "metadata": {},
   "outputs": [],
   "source": [
    "np.mean(x, axis=1)"
   ]
  },
  {
   "cell_type": "code",
   "execution_count": null,
   "metadata": {},
   "outputs": [],
   "source": [
    "np.median(x)"
   ]
  },
  {
   "cell_type": "code",
   "execution_count": null,
   "metadata": {},
   "outputs": [],
   "source": [
    "np.std(x)"
   ]
  },
  {
   "cell_type": "markdown",
   "metadata": {},
   "source": [
    "## Matrices multidimensionales\n"
   ]
  },
  {
   "cell_type": "code",
   "execution_count": null,
   "metadata": {},
   "outputs": [],
   "source": [
    "c = np.ones((4, 4))\n",
    "c*c"
   ]
  },
  {
   "cell_type": "code",
   "execution_count": null,
   "metadata": {},
   "outputs": [],
   "source": [
    "# para hacer multiplicaciones con Numpy usamos el metodo 'dot()'\n",
    "c.dot(c)"
   ]
  },
  {
   "cell_type": "code",
   "execution_count": null,
   "metadata": {},
   "outputs": [],
   "source": [
    "# uno de los ejes fundamentales del trabajo con matrices es el stacking/apilado, lo podemos hacer con \n",
    "# 'hstack' para apilado horizontal y 'vstack' para apilado vertical. De igual manera pode hacer split con\n",
    "# 'hsplit' para split horizontal y 'vsplit' para split vertical\n",
    "y = np.arange(15).reshape(3,5)\n",
    "x = np.arange(10).reshape(2,5)\n",
    "nueva_matriz = np.vstack((y,x))\n",
    "nueva_matriz"
   ]
  },
  {
   "cell_type": "code",
   "execution_count": null,
   "metadata": {},
   "outputs": [],
   "source": [
    "y = np.arange(15).reshape(5,3)\n",
    "x = np.arange(10).reshape(5,2)\n",
    "nueva_matriz = np.hstack((y,x))\n",
    "nueva_matriz"
   ]
  },
  {
   "cell_type": "markdown",
   "metadata": {},
   "source": [
    "Todos los metodos que hemos analizado hasta ahora son muy utiles cuando estamos desarrollando datasets para aplcaciones que utilizan Machine Learning/Aprendizaje Estadistico. Podemos utilizar ***scipy.stats*** para ver los estadisticos descriptivos de un dataset. Ejemplo:"
   ]
  },
  {
   "cell_type": "code",
   "execution_count": null,
   "metadata": {},
   "outputs": [],
   "source": [
    "from scipy import stats\n",
    "x= np.random.rand(100,10)\n",
    "n, min_max, mean, var, skew, kurt = stats.describe(x)\n",
    "nueva_matriz = np.vstack((mean, var, skew, kurt, min_max[0], min_max[1]))\n",
    "nueva_matriz.T"
   ]
  },
  {
   "cell_type": "code",
   "execution_count": null,
   "metadata": {},
   "outputs": [],
   "source": [
    "# Otro modulo muy util en Numpy es el 'scipy.ma' que vamos a usar para enmascarar/ignorar\n",
    "# elementos cuando hacemos operaciones. Ejemplo:\n",
    "\n",
    "import numpy.ma as ma\n",
    "x = np.arange(6)\n",
    "print(x)\n",
    "print(x.mean())\n",
    "matriz_enmascarada = ma.masked_array(x, mask=[1,0,0,0,0,0])\n",
    "print(matriz_enmascarada)\n",
    "matriz_enmascarada.mean()"
   ]
  },
  {
   "cell_type": "code",
   "execution_count": null,
   "metadata": {},
   "outputs": [],
   "source": [
    "# Lo mismo pero con NaNs \n",
    "x = np.arange(25, dtype = float).reshape(5,5)\n",
    "x[x<5] = np.nan\n",
    "x"
   ]
  },
  {
   "cell_type": "code",
   "execution_count": null,
   "metadata": {},
   "outputs": [],
   "source": [
    "np.where(np.isnan(x), ma.array(x, mask=np.isnan(x)).mean(axis=0), x)"
   ]
  },
  {
   "cell_type": "markdown",
   "metadata": {},
   "source": [
    "### Metodos\n",
    "\n",
    "|Metodo|Descripcion|\n",
    "|------|-----------|\n",
    "|np.concatenate|Unirse a la matriz en una secuencia con una matriz dada|\n",
    "|np.repeat|Repite el elemento de una matriz a lo largo de un eje específico|\n",
    "|np.delete|Devuelve una nueva matriz con los subarrays eliminados|\n",
    "|np.insert|Inserta valores antes del eje especificado|\n",
    "|np.unique|Encontrar valores unicos en la matriz|\n",
    "|np.tile|Crea una matriz repitiendo una entrada dada para un número dado de repeticiones|\n",
    "\n",
    "Ejemplos:"
   ]
  },
  {
   "cell_type": "code",
   "execution_count": null,
   "metadata": {},
   "outputs": [],
   "source": [
    "# Indexar en una lista\n",
    "x = [\"USA\",\"Francia\", \"Alemania\",\"Inglaterra\"]\n",
    "x[2]"
   ]
  },
  {
   "cell_type": "code",
   "execution_count": null,
   "metadata": {},
   "outputs": [],
   "source": [
    "# Indexar en un tupple\n",
    "x = ('USA',3,\"France\",4)\n",
    "x[2]"
   ]
  },
  {
   "cell_type": "code",
   "execution_count": null,
   "metadata": {},
   "outputs": [],
   "source": [
    "# Indexar con Numpy\n",
    "x = np.arange(10)\n",
    "print(x)\n",
    "print(x[5])\n",
    "print(x[-2])\n",
    "print(x[2:8])\n",
    "print(x[:])\n",
    "print(x[2:8:2])"
   ]
  },
  {
   "cell_type": "code",
   "execution_count": null,
   "metadata": {},
   "outputs": [],
   "source": [
    "x = np.reshape(np.arange(16),(4,4))\n",
    "x"
   ]
  },
  {
   "cell_type": "code",
   "execution_count": null,
   "metadata": {},
   "outputs": [],
   "source": [
    "x[1:3]"
   ]
  },
  {
   "cell_type": "code",
   "execution_count": null,
   "metadata": {},
   "outputs": [],
   "source": [
    "x[:,1:3]"
   ]
  },
  {
   "cell_type": "code",
   "execution_count": null,
   "metadata": {},
   "outputs": [],
   "source": [
    "x[1:3,1:3]"
   ]
  },
  {
   "cell_type": "code",
   "execution_count": null,
   "metadata": {},
   "outputs": [],
   "source": [
    "x = np.reshape(np.arange(16),(4,4))\n",
    "x"
   ]
  },
  {
   "cell_type": "code",
   "execution_count": null,
   "metadata": {},
   "outputs": [],
   "source": [
    "x[[0,1,2],[0,1,3]]"
   ]
  },
  {
   "cell_type": "code",
   "execution_count": null,
   "metadata": {},
   "outputs": [],
   "source": [
    "x = np.arange(16).reshape(4,4)\n",
    "x"
   ]
  },
  {
   "cell_type": "code",
   "execution_count": null,
   "metadata": {},
   "outputs": [],
   "source": [
    "np.resize(x,(2,2))"
   ]
  },
  {
   "cell_type": "code",
   "execution_count": null,
   "metadata": {},
   "outputs": [],
   "source": [
    "np.resize(x,(6,6))"
   ]
  },
  {
   "cell_type": "code",
   "execution_count": null,
   "metadata": {},
   "outputs": [],
   "source": [
    "x = np.arange(16).reshape(4,4)\n",
    "y = np.arange(6).reshape(2,3)\n",
    "x+y"
   ]
  },
  {
   "cell_type": "code",
   "execution_count": null,
   "metadata": {},
   "outputs": [],
   "source": [
    "x = np.ones(16).reshape(4,4)\n",
    "y = np.arange(4)\n",
    "x*y"
   ]
  },
  {
   "cell_type": "code",
   "execution_count": null,
   "metadata": {},
   "outputs": [],
   "source": [
    "x = np.arange(4).reshape(2,2)\n",
    "x"
   ]
  },
  {
   "cell_type": "code",
   "execution_count": null,
   "metadata": {},
   "outputs": [],
   "source": [
    "y = np.arange(2).reshape(1,2)\n",
    "y"
   ]
  },
  {
   "cell_type": "code",
   "execution_count": null,
   "metadata": {},
   "outputs": [],
   "source": [
    "x*y"
   ]
  },
  {
   "cell_type": "code",
   "execution_count": null,
   "metadata": {},
   "outputs": [],
   "source": []
  }
 ],
 "metadata": {
  "kernelspec": {
   "display_name": "Python 3",
   "language": "python",
   "name": "python3"
  },
  "language_info": {
   "codemirror_mode": {
    "name": "ipython",
    "version": 3
   },
   "file_extension": ".py",
   "mimetype": "text/x-python",
   "name": "python",
   "nbconvert_exporter": "python",
   "pygments_lexer": "ipython3",
   "version": "3.6.7"
  }
 },
 "nbformat": 4,
 "nbformat_minor": 1
}
