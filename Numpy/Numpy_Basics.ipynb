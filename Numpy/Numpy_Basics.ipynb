{
 "cells": [
  {
   "cell_type": "markdown",
   "metadata": {
    "collapsed": true
   },
   "source": [
    "# Numpy Basics\n",
    "\n",
    "**Numpy** es el paquete fundamental para la computacion cientifica en Python y es la base de muchos otros paquetes. Aunque sea dificil de creer, Python no fue hecho para ejecutar computaciones numericas pero cuando Python se comenzo a hacer popular en los 90's fue necesario ejecutar operaciones vectoriales mucho mas rapido de que lo Python podia hacer en ese tiempo y Numpy fue creado. Como podemos observar en la imagen Numpy es parte esencial de muchos paquetes populares en Python usados en el campo de Machine Learning. \n",
    "\n",
    "<img src='./data/img/numpy.jpg'>\n",
    "![alt text](/data/img/numpy.jpg \"numpystack\")\n",
    "\n",
    "\n",
    "En resumen podemos conlcuir que las ventajas de Numpy son:\n",
    "\n",
    "- Es Open Source y gratis.\n",
    "- Tiene una sintaxis muy amigable.\n",
    "- Es mas eficiente que las lista de Python.\n",
    "- Tiene funciones muy avanzadas y esta muy bien integrado en otras librerias.\n",
    "\n",
    "### Instalar Numpy\n",
    "\n",
    "Para instalar numpy simplemente ejecutamos la siguiente linea de codigo:\n",
    "\n",
    "    - pip3 install numpy\n",
    "    \n",
    "Si queremos una version especifica de numpy:\n",
    "\n",
    "    - pip3 install numpy==<version>\n",
    "\n",
    "\n",
    "## Numpy Arrays\n",
    "\n",
    "Como seguramente sabes lo que hace a Numpy muy util son las matrices multidimensionales o **ndarrays**. Un ejemplo:"
   ]
  },
  {
   "cell_type": "code",
   "execution_count": 13,
   "metadata": {},
   "outputs": [
    {
     "name": "stdout",
     "output_type": "stream",
     "text": [
      "Esta es nuestra matriz:  [[1 2 3]\n",
      " [4 5 6]]\n",
      "Nuestra matriz es del tipo:  <class 'numpy.ndarray'>\n",
      "La dimension de nuestra matriz es:  (2, 3)\n",
      "El tamano de nuestra matriz es:  6\n",
      "La dimension de nuestra matriz es:  2\n",
      "El tipo de dato de nuestra matriz es:  int64\n",
      "El total de bytes en nuestra matriz es:  48\n"
     ]
    }
   ],
   "source": [
    "# importamos numpy, para hacer nuestro codigo mas legible lo importamos como np\n",
    "import numpy as np\n",
    "\n",
    "x = np.array([[1,2,3,],[4,5,6]])\n",
    "# imprime la matriz\n",
    "print('Esta es nuestra matriz: ', (x))\n",
    "# imprime el tipo de objeto que es nuestra matriz\n",
    "print('Nuestra matriz es del tipo: ', type(x))\n",
    "# imprime las dimensiones de la matriz\n",
    "print('La dimension de nuestra matriz es: ', x.shape)\n",
    "# imprime el tamano de nuestra matriz\n",
    "print('El tamano de nuestra matriz es: ', x.size)\n",
    "# imprime la dimension de nuestra matriz\n",
    "print('La dimension de nuestra matriz es: ', x.ndim)\n",
    "# imprime el tipo de dato que hay dentro de nuestra matriz\n",
    "print('El tipo de dato de nuestra matriz es: ', x.dtype)\n",
    "# imprime el numero de bytes que hay dentro de nuestra matriz\n",
    "print('El total de bytes en nuestra matriz es: ', x.nbytes)"
   ]
  },
  {
   "cell_type": "markdown",
   "metadata": {},
   "source": [
    "Vamos a ver que sucede cuando usamos un *float*, *complex* o *uint*: "
   ]
  },
  {
   "cell_type": "code",
   "execution_count": 14,
   "metadata": {},
   "outputs": [
    {
     "name": "stdout",
     "output_type": "stream",
     "text": [
      "[[1. 2. 3.]\n",
      " [4. 5. 6.]]\n",
      "48\n"
     ]
    }
   ],
   "source": [
    "x = np.array([[1,2,3],[4,5,6]], dtype = np.float)\n",
    "print(x)\n",
    "print(x.nbytes)"
   ]
  },
  {
   "cell_type": "code",
   "execution_count": 15,
   "metadata": {},
   "outputs": [
    {
     "name": "stdout",
     "output_type": "stream",
     "text": [
      "[[1.+0.j 2.+0.j 3.+0.j]\n",
      " [4.+0.j 5.+0.j 6.+0.j]]\n",
      "96\n"
     ]
    }
   ],
   "source": [
    "x = np.array([[1,2,3],[4,5,6]], dtype = np.complex)\n",
    "print(x)\n",
    "print(x.nbytes)"
   ]
  },
  {
   "cell_type": "code",
   "execution_count": 16,
   "metadata": {},
   "outputs": [
    {
     "name": "stdout",
     "output_type": "stream",
     "text": [
      "[[         1          2          3]\n",
      " [         4 4294967291          6]]\n",
      "24\n"
     ]
    }
   ],
   "source": [
    "x = np.array([[1,2,3],[4,-5,6]], dtype = np.uint32)\n",
    "print(x)\n",
    "print(x.nbytes)"
   ]
  },
  {
   "cell_type": "markdown",
   "metadata": {},
   "source": [
    "Cada tipo consume un numero distinto de bytes:"
   ]
  },
  {
   "cell_type": "code",
   "execution_count": 17,
   "metadata": {},
   "outputs": [
    {
     "name": "stdout",
     "output_type": "stream",
     "text": [
      "int64 consume 48 bytes\n",
      "int32 consume 24 bytes\n"
     ]
    }
   ],
   "source": [
    "x = np.array([[1,2,3],[4,5,6]], dtype = np.int64)\n",
    "print(\"int64 consume\",x.nbytes, \"bytes\")\n",
    "x = np.array([[1,2,3],[4,5,6]], dtype = np.int32)\n",
    "print(\"int32 consume\",x.nbytes, \"bytes\")"
   ]
  },
  {
   "cell_type": "markdown",
   "metadata": {},
   "source": [
    "Es importante tener en cuenta este tipo de cosas basicas especialmente cuando estamos hablando de Big Data en donde este tipo de conversiones es muy importante para el desempeno. Como podemos ver no podemos modificar el *dtype* de nuestra matriz una vez que la hemos creado, pero lo que si podemos hacer es copiarla y cambiar el *dtype* con el atributo *astype*, un ejemplo:"
   ]
  },
  {
   "cell_type": "code",
   "execution_count": 20,
   "metadata": {},
   "outputs": [
    {
     "data": {
      "text/plain": [
       "array([[1., 2., 3.],\n",
       "       [4., 5., 6.]])"
      ]
     },
     "execution_count": 20,
     "metadata": {},
     "output_type": "execute_result"
    }
   ],
   "source": [
    "copia_x = np.array(x, dtype = np.float)\n",
    "copia_x"
   ]
  },
  {
   "cell_type": "code",
   "execution_count": 21,
   "metadata": {},
   "outputs": [
    {
     "data": {
      "text/plain": [
       "array([[1, 2, 3],\n",
       "       [4, 5, 6]])"
      ]
     },
     "execution_count": 21,
     "metadata": {},
     "output_type": "execute_result"
    }
   ],
   "source": [
    "copia_x_int = copia_x.astype(np.int)\n",
    "copia_x_int"
   ]
  },
  {
   "cell_type": "markdown",
   "metadata": {},
   "source": [
    "**Algo muy importante que tenemos que considerar es que *astype* no cambia el *dtype* \"de copia_x\", lo que sucede es que conserva las condiciones originales pero crea \"copia_x_int\"**"
   ]
  },
  {
   "cell_type": "code",
   "execution_count": null,
   "metadata": {},
   "outputs": [],
   "source": []
  }
 ],
 "metadata": {
  "kernelspec": {
   "display_name": "Python 3",
   "language": "python",
   "name": "python3"
  },
  "language_info": {
   "codemirror_mode": {
    "name": "ipython",
    "version": 3
   },
   "file_extension": ".py",
   "mimetype": "text/x-python",
   "name": "python",
   "nbconvert_exporter": "python",
   "pygments_lexer": "ipython3",
   "version": "3.6.7"
  }
 },
 "nbformat": 4,
 "nbformat_minor": 1
}
