{
 "cells": [
  {
   "cell_type": "markdown",
   "metadata": {
    "collapsed": true
   },
   "source": [
    "# Numpy Basics\n",
    "\n",
    "**Numpy** es el paquete fundamental para la computacion cientifica en Python y es la base de muchos otros paquetes. Aunque sea dificil de creer, Python no fue hecho para ejecutar computaciones numericas pero cuando Python se comenzo a hacer popular en los 90's fue necesario ejecutar operaciones vectoriales mucho mas rapido de que lo Python podia hacer en ese tiempo y Numpy fue creado. Como podemos observar en la imagen Numpy es parte esencial de muchos paquetes populares en Python usados en el campo de Machine Learning. \n",
    "\n",
    "<img src='../data/img/numpystack.png'>\n",
    "\n",
    "En resumen podemos conlcuir que las ventajas de Numpy son:\n",
    "\n",
    "- Es Open Source y gratis.\n",
    "- Tiene una sintaxis muy amigable.\n",
    "- Es mas eficiente que las lista de Python.\n",
    "- Tiene funciones muy avanzadas y esta muy bien integrado en otras librerias.\n",
    "\n",
    "### Instalar Numpy\n",
    "\n",
    "Para instalar numpy simplemente ejecutamos la siguiente linea de codigo:\n",
    "\n",
    "    - pip3 install numpy\n",
    "    \n",
    "Si queremos una version especifica de numpy:\n",
    "\n",
    "    - pip3 install numpy==<version>\n",
    "\n",
    "\n",
    "## Numpy Arrays\n",
    "\n",
    "Como seguramente sabes lo que hace a Numpy muy util son las matrices multidimensionales o **ndarrays**. Un ejemplo:"
   ]
  },
  {
   "cell_type": "code",
   "execution_count": 1,
   "metadata": {},
   "outputs": [
    {
     "name": "stdout",
     "output_type": "stream",
     "text": [
      "Esta es nuestra matriz:  [[1 2 3]\n",
      " [4 5 6]]\n",
      "Nuestra matriz es del tipo:  <class 'numpy.ndarray'>\n",
      "La dimension de nuestra matriz es:  (2, 3)\n",
      "El tamano de nuestra matriz es:  6\n",
      "La dimension de nuestra matriz es:  2\n",
      "El tipo de dato de nuestra matriz es:  int64\n",
      "El total de bytes en nuestra matriz es:  48\n"
     ]
    }
   ],
   "source": [
    "# importamos numpy, para hacer nuestro codigo mas legible lo importamos como np\n",
    "import numpy as np\n",
    "\n",
    "x = np.array([[1,2,3,],[4,5,6]])\n",
    "# imprime la matriz\n",
    "print('Esta es nuestra matriz: ', (x))\n",
    "# imprime el tipo de objeto que es nuestra matriz\n",
    "print('Nuestra matriz es del tipo: ', type(x))\n",
    "# imprime las dimensiones de la matriz\n",
    "print('La dimension de nuestra matriz es: ', x.shape)\n",
    "# imprime el tamano de nuestra matriz\n",
    "print('El tamano de nuestra matriz es: ', x.size)\n",
    "# imprime la dimension de nuestra matriz\n",
    "print('La dimension de nuestra matriz es: ', x.ndim)\n",
    "# imprime el tipo de dato que hay dentro de nuestra matriz\n",
    "print('El tipo de dato de nuestra matriz es: ', x.dtype)\n",
    "# imprime el numero de bytes que hay dentro de nuestra matriz\n",
    "print('El total de bytes en nuestra matriz es: ', x.nbytes)"
   ]
  },
  {
   "cell_type": "markdown",
   "metadata": {},
   "source": [
    "Vamos a ver que sucede cuando usamos un *float*, *complex* o *uint*: "
   ]
  },
  {
   "cell_type": "code",
   "execution_count": 2,
   "metadata": {},
   "outputs": [
    {
     "name": "stdout",
     "output_type": "stream",
     "text": [
      "[[1. 2. 3.]\n",
      " [4. 5. 6.]]\n",
      "48\n"
     ]
    }
   ],
   "source": [
    "x = np.array([[1,2,3],[4,5,6]], dtype = np.float)\n",
    "print(x)\n",
    "print(x.nbytes)"
   ]
  },
  {
   "cell_type": "code",
   "execution_count": 3,
   "metadata": {},
   "outputs": [
    {
     "name": "stdout",
     "output_type": "stream",
     "text": [
      "[[1.+0.j 2.+0.j 3.+0.j]\n",
      " [4.+0.j 5.+0.j 6.+0.j]]\n",
      "96\n"
     ]
    }
   ],
   "source": [
    "x = np.array([[1,2,3],[4,5,6]], dtype = np.complex)\n",
    "print(x)\n",
    "print(x.nbytes)"
   ]
  },
  {
   "cell_type": "code",
   "execution_count": 4,
   "metadata": {},
   "outputs": [
    {
     "name": "stdout",
     "output_type": "stream",
     "text": [
      "[[         1          2          3]\n",
      " [         4 4294967291          6]]\n",
      "24\n"
     ]
    }
   ],
   "source": [
    "x = np.array([[1,2,3],[4,-5,6]], dtype = np.uint32)\n",
    "print(x)\n",
    "print(x.nbytes)"
   ]
  },
  {
   "cell_type": "markdown",
   "metadata": {},
   "source": [
    "Cada tipo consume un numero distinto de bytes:"
   ]
  },
  {
   "cell_type": "code",
   "execution_count": 5,
   "metadata": {},
   "outputs": [
    {
     "name": "stdout",
     "output_type": "stream",
     "text": [
      "int64 consume 48 bytes\n",
      "int32 consume 24 bytes\n"
     ]
    }
   ],
   "source": [
    "x = np.array([[1,2,3],[4,5,6]], dtype = np.int64)\n",
    "print(\"int64 consume\",x.nbytes, \"bytes\")\n",
    "x = np.array([[1,2,3],[4,5,6]], dtype = np.int32)\n",
    "print(\"int32 consume\",x.nbytes, \"bytes\")"
   ]
  },
  {
   "cell_type": "markdown",
   "metadata": {},
   "source": [
    "Es importante tener en cuenta este tipo de cosas basicas especialmente cuando estamos hablando de Big Data en donde este tipo de conversiones es muy importante para el desempeno. Como podemos ver no podemos modificar el *dtype* de nuestra matriz una vez que la hemos creado, pero lo que si podemos hacer es copiarla y cambiar el *dtype* con el atributo *astype*, un ejemplo:"
   ]
  },
  {
   "cell_type": "code",
   "execution_count": 6,
   "metadata": {},
   "outputs": [
    {
     "data": {
      "text/plain": [
       "array([[1., 2., 3.],\n",
       "       [4., 5., 6.]])"
      ]
     },
     "execution_count": 6,
     "metadata": {},
     "output_type": "execute_result"
    }
   ],
   "source": [
    "copia_x = np.array(x, dtype = np.float)\n",
    "copia_x"
   ]
  },
  {
   "cell_type": "code",
   "execution_count": 7,
   "metadata": {},
   "outputs": [
    {
     "data": {
      "text/plain": [
       "array([[1, 2, 3],\n",
       "       [4, 5, 6]])"
      ]
     },
     "execution_count": 7,
     "metadata": {},
     "output_type": "execute_result"
    }
   ],
   "source": [
    "copia_x_int = copia_x.astype(np.int)\n",
    "copia_x_int"
   ]
  },
  {
   "cell_type": "markdown",
   "metadata": {},
   "source": [
    "**Algo muy importante que tenemos que considerar es que *astype* no cambia el *dtype* \"de copia_x\", lo que sucede es que conserva las condiciones originales pero crea \"copia_x_int\"**\n",
    "\n",
    "Hagamos un ejercicio de imaginacion en donde queremos encontrar a un asaltante en una ciudad con 100,000 habitantes y cada estudiante tiene 100 caracteristicas cada uno, obviamente nuestra matriz es [100000, 10]:"
   ]
  },
  {
   "cell_type": "code",
   "execution_count": 8,
   "metadata": {},
   "outputs": [
    {
     "name": "stdout",
     "output_type": "stream",
     "text": [
      "<class 'numpy.ndarray'>\n",
      "float64\n",
      "80000000\n",
      "40000000\n"
     ]
    }
   ],
   "source": [
    "Datos_ciudad= np.random.rand(100000,100)\n",
    "print(type(Datos_ciudad))\n",
    "print(Datos_ciudad.dtype)\n",
    "print(Datos_ciudad.nbytes)\n",
    "Nuevo_Datos_Ciudad = np.array(Datos_ciudad, dtype = np.float32)\n",
    "print(Nuevo_Datos_Ciudad.nbytes)"
   ]
  },
  {
   "cell_type": "markdown",
   "metadata": {},
   "source": [
    "Como podemos ver nuestra primera matriz es un float64 pero la segunda es un float32, la diferencia de bytes es practicamente del 50%,de 80 MB paso a ser de 40 MB, lo que va a pasar es que vamos a tener una reduccion de precision despues del punto decimal, de 16 puntos decimales pasamos a solo 8, esto es importante dependiendo del algoritmo con el que estemos trabajando, cuando tenemos datasets muy grandes podemos quedarnos sin memoria al procesar los datos. \n",
    "\n",
    "## Operaciones con matrices Numpy\n"
   ]
  },
  {
   "cell_type": "code",
   "execution_count": 9,
   "metadata": {},
   "outputs": [
    {
     "data": {
      "text/plain": [
       "numpy.ndarray"
      ]
     },
     "execution_count": 9,
     "metadata": {},
     "output_type": "execute_result"
    }
   ],
   "source": [
    "mi_lista = [2, 14, 6, 8]\n",
    "mi_matriz = np.asarray(mi_lista)\n",
    "type(mi_matriz)"
   ]
  },
  {
   "cell_type": "code",
   "execution_count": 10,
   "metadata": {},
   "outputs": [
    {
     "name": "stdout",
     "output_type": "stream",
     "text": [
      "le sumamos 2 = [ 4 16  8 10]\n",
      "le restamos 2 = [ 0 12  4  6]\n",
      "multiplicamos *2 = [ 4 28 12 16]\n",
      "dividimos / 2 = [1. 7. 3. 4.]\n"
     ]
    }
   ],
   "source": [
    "# Hagamos un par de operaciones aritmeticas\n",
    "# suma\n",
    "print('le sumamos 2 =', mi_matriz + 2)\n",
    "# resta\n",
    "print('le restamos 2 =', mi_matriz - 2)\n",
    "# multiplicacion\n",
    "print('multiplicamos *2 =', mi_matriz * 2)\n",
    "# division\n",
    "print('dividimos / 2 =', mi_matriz/2)"
   ]
  },
  {
   "cell_type": "markdown",
   "metadata": {},
   "source": [
    "Por que no hicimos las operaciones con la lista? Porque las listas no estan vectorizadas y para hacer operaciones seria necesario iterar cada uno de los elementos dentro de la lista para hacer la operacion ergo numpy no ayuda a hacer esto de manera muy sencilla. Mas ejemplos:"
   ]
  },
  {
   "cell_type": "code",
   "execution_count": 11,
   "metadata": {},
   "outputs": [
    {
     "name": "stdout",
     "output_type": "stream",
     "text": [
      "[3. 3. 3. 3.]\n",
      "[-1. 11.  3.  5.]\n",
      "[1.5        0.21428571 0.5        0.375     ]\n"
     ]
    }
   ],
   "source": [
    "# una matriz de zeros + 3 \n",
    "segunda_matriz = np.zeros(4) + 3\n",
    "print(segunda_matriz)\n",
    "print(mi_matriz - segunda_matriz)\n",
    "print(segunda_matriz/ mi_matriz)"
   ]
  },
  {
   "cell_type": "code",
   "execution_count": 12,
   "metadata": {},
   "outputs": [
    {
     "name": "stdout",
     "output_type": "stream",
     "text": [
      "[4. 4. 4. 4.]\n",
      "[-2. 10.  2.  4.]\n",
      "[2.         0.28571429 0.66666667 0.5       ]\n"
     ]
    }
   ],
   "source": [
    "# una matriz de unos + 3\n",
    "segunda_matriz = np.ones(4) + 3\n",
    "print(segunda_matriz)\n",
    "print(mi_matriz - segunda_matriz)\n",
    "print(segunda_matriz/mi_matriz)"
   ]
  },
  {
   "cell_type": "code",
   "execution_count": 13,
   "metadata": {},
   "outputs": [
    {
     "name": "stdout",
     "output_type": "stream",
     "text": [
      "[[1. 0. 0. 0.]\n",
      " [0. 1. 0. 0.]\n",
      " [0. 0. 1. 0.]\n",
      " [0. 0. 0. 1.]]\n",
      "[[4. 3. 3. 3.]\n",
      " [3. 4. 3. 3.]\n",
      " [3. 3. 4. 3.]\n",
      " [3. 3. 3. 4.]]\n",
      "[[-2. 11.  3.  5.]\n",
      " [-1. 10.  3.  5.]\n",
      " [-1. 11.  2.  5.]\n",
      " [-1. 11.  3.  4.]]\n",
      "[[2.         0.21428571 0.5        0.375     ]\n",
      " [1.5        0.28571429 0.5        0.375     ]\n",
      " [1.5        0.21428571 0.66666667 0.375     ]\n",
      " [1.5        0.21428571 0.5        0.5       ]]\n"
     ]
    }
   ],
   "source": [
    "# una matriz de identidad\n",
    "segunda_matriz = np.identity(4)\n",
    "print(segunda_matriz)\n",
    "segunda_matriz = np.identity(4) + 3\n",
    "print(segunda_matriz)\n",
    "print(mi_matriz - segunda_matriz) \n",
    "print(segunda_matriz/mi_matriz)"
   ]
  },
  {
   "cell_type": "code",
   "execution_count": 14,
   "metadata": {},
   "outputs": [
    {
     "data": {
      "text/plain": [
       "array([3. , 3.5, 4. , 4.5, 5. , 5.5, 6. , 6.5])"
      ]
     },
     "execution_count": 14,
     "metadata": {},
     "output_type": "execute_result"
    }
   ],
   "source": [
    "# usemos el metodo arange, nos genera una matriz con un intervalo entre\n",
    "# el primer y el ultimo valor de nuestra matriz\n",
    "x = np.arange(3,7,0.5)\n",
    "x"
   ]
  },
  {
   "cell_type": "code",
   "execution_count": 15,
   "metadata": {},
   "outputs": [
    {
     "data": {
      "text/plain": [
       "array([ 1.2       ,  3.26842105,  5.33684211,  7.40526316,  9.47368421,\n",
       "       11.54210526, 13.61052632, 15.67894737, 17.74736842, 19.81578947,\n",
       "       21.88421053, 23.95263158, 26.02105263, 28.08947368, 30.15789474,\n",
       "       32.22631579, 34.29473684, 36.36315789, 38.43157895, 40.5       ])"
      ]
     },
     "execution_count": 15,
     "metadata": {},
     "output_type": "execute_result"
    }
   ],
   "source": [
    "# si no sabemos el invervalo que cada valor debe tener entre si, pero si sabemos \n",
    "# el numero de elementos que deben existir entre el elemento inicial y el final\n",
    "x = np.linspace(1.2, 40.5, num=20)\n",
    "x"
   ]
  },
  {
   "cell_type": "code",
   "execution_count": 16,
   "metadata": {},
   "outputs": [
    {
     "name": "stdout",
     "output_type": "stream",
     "text": [
      "[  1.   5.  25. 125. 625.]\n",
      "[ 1000.          1778.27941004  3162.27766017  5623.4132519\n",
      " 10000.        ]\n"
     ]
    }
   ],
   "source": [
    "# podemos usar metodos similares con outputs distintos dado que usan una escala diferente\n",
    "# los metodos son 'geomspace' y 'logspace'\n",
    "geo = np.geomspace(1, 625, num=5)\n",
    "print(geo)\n",
    "log = np.logspace(3, 4, num=5)\n",
    "print(log)\n",
    "# 10**3 - 10**4"
   ]
  },
  {
   "cell_type": "code",
   "execution_count": 17,
   "metadata": {},
   "outputs": [
    {
     "data": {
      "text/plain": [
       "array([3.        , 3.2237098 , 3.46410162, 3.72241944, 4.        ])"
      ]
     },
     "execution_count": 17,
     "metadata": {},
     "output_type": "execute_result"
    }
   ],
   "source": [
    "# Para respetar el 3 y 4 como nuestros puntos de partida y final tenemos que usar log10\n",
    "log10 = np.logspace(np.log10(3), np.log10(4), num=5)\n",
    "log10"
   ]
  },
  {
   "cell_type": "code",
   "execution_count": 18,
   "metadata": {},
   "outputs": [
    {
     "data": {
      "text/plain": [
       "array([ True, False, False,  True])"
      ]
     },
     "execution_count": 18,
     "metadata": {},
     "output_type": "execute_result"
    }
   ],
   "source": [
    "# comparacion de matrices boolean por elemento\n",
    "x = np.array([1,2,3,4])\n",
    "y = np.array([1,3,4,4])\n",
    "x == y"
   ]
  },
  {
   "cell_type": "code",
   "execution_count": 19,
   "metadata": {},
   "outputs": [
    {
     "data": {
      "text/plain": [
       "False"
      ]
     },
     "execution_count": 19,
     "metadata": {},
     "output_type": "execute_result"
    }
   ],
   "source": [
    "# comparacion de matrices boolean matriz entera\n",
    "x = np.array([1,2,3,4])\n",
    "y = np.array([1,3,4,4])\n",
    "np.array_equal(x,y)"
   ]
  },
  {
   "cell_type": "code",
   "execution_count": 20,
   "metadata": {},
   "outputs": [
    {
     "data": {
      "text/plain": [
       "array([ True,  True, False,  True])"
      ]
     },
     "execution_count": 20,
     "metadata": {},
     "output_type": "execute_result"
    }
   ],
   "source": [
    "# comparacion logica or\n",
    "x = np.array([0, 1, 0, 0], dtype=bool)\n",
    "y = np.array([1, 1, 0, 1], dtype=bool)\n",
    "np.logical_or(x,y)"
   ]
  },
  {
   "cell_type": "code",
   "execution_count": 21,
   "metadata": {},
   "outputs": [
    {
     "data": {
      "text/plain": [
       "array([False,  True, False, False])"
      ]
     },
     "execution_count": 21,
     "metadata": {},
     "output_type": "execute_result"
    }
   ],
   "source": [
    "# comparacion logica and\n",
    "np.logical_and(x,y)"
   ]
  },
  {
   "cell_type": "code",
   "execution_count": 22,
   "metadata": {},
   "outputs": [
    {
     "data": {
      "text/plain": [
       "array([ True,  True,  True,  True])"
      ]
     },
     "execution_count": 22,
     "metadata": {},
     "output_type": "execute_result"
    }
   ],
   "source": [
    "# comparacion logica or\n",
    "np.logical_or(x <13,x > 50)"
   ]
  },
  {
   "cell_type": "code",
   "execution_count": 23,
   "metadata": {},
   "outputs": [
    {
     "data": {
      "text/plain": [
       "array([ 2.71828183,  7.3890561 , 20.08553692, 54.59815003])"
      ]
     },
     "execution_count": 23,
     "metadata": {},
     "output_type": "execute_result"
    }
   ],
   "source": [
    "# aritmetica con funciones tracendentales\n",
    "x = np.array([1, 2, 3,4 ])\n",
    "np.exp(x)"
   ]
  },
  {
   "cell_type": "code",
   "execution_count": 24,
   "metadata": {},
   "outputs": [
    {
     "data": {
      "text/plain": [
       "array([0.        , 0.69314718, 1.09861229, 1.38629436])"
      ]
     },
     "execution_count": 24,
     "metadata": {},
     "output_type": "execute_result"
    }
   ],
   "source": [
    "np.log(x)"
   ]
  },
  {
   "cell_type": "code",
   "execution_count": 25,
   "metadata": {},
   "outputs": [
    {
     "data": {
      "text/plain": [
       "array([ 0.84147098,  0.90929743,  0.14112001, -0.7568025 ])"
      ]
     },
     "execution_count": 25,
     "metadata": {},
     "output_type": "execute_result"
    }
   ],
   "source": [
    "np.sin(x)"
   ]
  },
  {
   "cell_type": "code",
   "execution_count": 26,
   "metadata": {},
   "outputs": [
    {
     "data": {
      "text/plain": [
       "array([0, 1, 2, 3, 4, 5, 6, 7, 8])"
      ]
     },
     "execution_count": 26,
     "metadata": {},
     "output_type": "execute_result"
    }
   ],
   "source": [
    "# tranponer una matriz\n",
    "x = np.arange(9)\n",
    "x"
   ]
  },
  {
   "cell_type": "code",
   "execution_count": 27,
   "metadata": {},
   "outputs": [
    {
     "data": {
      "text/plain": [
       "array([[0, 1, 2],\n",
       "       [3, 4, 5],\n",
       "       [6, 7, 8]])"
      ]
     },
     "execution_count": 27,
     "metadata": {},
     "output_type": "execute_result"
    }
   ],
   "source": [
    "x = np.arange(9).reshape((3,3))\n",
    "x"
   ]
  },
  {
   "cell_type": "code",
   "execution_count": 28,
   "metadata": {},
   "outputs": [
    {
     "data": {
      "text/plain": [
       "array([[0, 3, 6],\n",
       "       [1, 4, 7],\n",
       "       [2, 5, 8]])"
      ]
     },
     "execution_count": 28,
     "metadata": {},
     "output_type": "execute_result"
    }
   ],
   "source": [
    "x.T"
   ]
  },
  {
   "cell_type": "code",
   "execution_count": 29,
   "metadata": {},
   "outputs": [
    {
     "data": {
      "text/plain": [
       "array([[0, 1, 2],\n",
       "       [3, 4, 5]])"
      ]
     },
     "execution_count": 29,
     "metadata": {},
     "output_type": "execute_result"
    }
   ],
   "source": [
    "# transponer matrices asimetricas\n",
    "x = np.arange(6).reshape(2,3)\n",
    "x"
   ]
  },
  {
   "cell_type": "code",
   "execution_count": 30,
   "metadata": {},
   "outputs": [
    {
     "data": {
      "text/plain": [
       "array([[0, 3],\n",
       "       [1, 4],\n",
       "       [2, 5]])"
      ]
     },
     "execution_count": 30,
     "metadata": {},
     "output_type": "execute_result"
    }
   ],
   "source": [
    "x.T"
   ]
  },
  {
   "cell_type": "markdown",
   "metadata": {},
   "source": [
    "### Metodos\n",
    "\n",
    "|Metodo|Descripcion|\n",
    "|------|-----------|\n",
    "|np.sum|Regresa la suma total de todos los valores de la matriz o un eje especifico|\n",
    "|np.amin|Regresa el valor minimo de todas las matrices o de un eje especifico|\n",
    "|np.amax|Regresa el valor maximo de todas las matrices o de un eje especifico|\n",
    "|np.percentile|Regresa el percentil de todas las matrices o de un eje especifico|\n",
    "|np.nanmin|Lo mismo que np.amin, pero ignora valore NaN en las matrices|\n",
    "|np.nanmax|Lo mismo que np.amax, pero ignora los valores NaN en las matrices|\n",
    "|np.nanpercentile|Lo mismo que np.percentile, pero ignora los valores NaN en las matrices|\n",
    "\n",
    "Ejemplos:\n"
   ]
  },
  {
   "cell_type": "code",
   "execution_count": 31,
   "metadata": {},
   "outputs": [
    {
     "data": {
      "text/plain": [
       "array([[0, 1, 2],\n",
       "       [3, 4, 5],\n",
       "       [6, 7, 8]])"
      ]
     },
     "execution_count": 31,
     "metadata": {},
     "output_type": "execute_result"
    }
   ],
   "source": [
    "x = np.arange(9).reshape((3,3))\n",
    "x"
   ]
  },
  {
   "cell_type": "code",
   "execution_count": 32,
   "metadata": {},
   "outputs": [
    {
     "data": {
      "text/plain": [
       "36"
      ]
     },
     "execution_count": 32,
     "metadata": {},
     "output_type": "execute_result"
    }
   ],
   "source": [
    "np.sum(x)"
   ]
  },
  {
   "cell_type": "code",
   "execution_count": 33,
   "metadata": {},
   "outputs": [
    {
     "data": {
      "text/plain": [
       "0"
      ]
     },
     "execution_count": 33,
     "metadata": {},
     "output_type": "execute_result"
    }
   ],
   "source": [
    "np.amin(x)"
   ]
  },
  {
   "cell_type": "code",
   "execution_count": 34,
   "metadata": {},
   "outputs": [
    {
     "data": {
      "text/plain": [
       "8"
      ]
     },
     "execution_count": 34,
     "metadata": {},
     "output_type": "execute_result"
    }
   ],
   "source": [
    "np.amax(x)"
   ]
  },
  {
   "cell_type": "code",
   "execution_count": 35,
   "metadata": {},
   "outputs": [
    {
     "data": {
      "text/plain": [
       "array([0, 1, 2])"
      ]
     },
     "execution_count": 35,
     "metadata": {},
     "output_type": "execute_result"
    }
   ],
   "source": [
    "np.amin(x, axis=0)"
   ]
  },
  {
   "cell_type": "code",
   "execution_count": 36,
   "metadata": {},
   "outputs": [
    {
     "data": {
      "text/plain": [
       "array([0, 3, 6])"
      ]
     },
     "execution_count": 36,
     "metadata": {},
     "output_type": "execute_result"
    }
   ],
   "source": [
    "np.amin(x, axis=1)"
   ]
  },
  {
   "cell_type": "code",
   "execution_count": 37,
   "metadata": {},
   "outputs": [
    {
     "data": {
      "text/plain": [
       "6.4"
      ]
     },
     "execution_count": 37,
     "metadata": {},
     "output_type": "execute_result"
    }
   ],
   "source": [
    "np.percentile(x, 80)"
   ]
  },
  {
   "cell_type": "code",
   "execution_count": 38,
   "metadata": {},
   "outputs": [
    {
     "data": {
      "text/plain": [
       "2"
      ]
     },
     "execution_count": 38,
     "metadata": {},
     "output_type": "execute_result"
    }
   ],
   "source": [
    "# indice de valor maximo\n",
    "x = np.array([1, -21, 3, -3])\n",
    "np.argmax(x)\n"
   ]
  },
  {
   "cell_type": "code",
   "execution_count": 39,
   "metadata": {},
   "outputs": [
    {
     "data": {
      "text/plain": [
       "1"
      ]
     },
     "execution_count": 39,
     "metadata": {},
     "output_type": "execute_result"
    }
   ],
   "source": [
    "# indice de valor minimo \n",
    "np.argmin(x)"
   ]
  },
  {
   "cell_type": "markdown",
   "metadata": {},
   "source": [
    "### Metodos\n",
    "\n",
    "|Metodo|Descripcion|\n",
    "|------|-----------|\n",
    "|np.mean|Regresa la media de la matriz o del eje especifico|\n",
    "|np.median|Regresa la mediana de la matriz o del eje especifico|\n",
    "|np.std|Regresa la desviacion estandar de la matriz o del eje especifico|\n",
    "|np.nanmean|Lo mismo que np.mean, pero ignora los valores NaN en la matriz|\n",
    "|np.nanmedian|Lo mismo que np.median, pero ignora los valores NaN en la matriz|\n",
    "|np.nanstd|Lo mismo que np.nanstd, pero ignora los valores NaN en la matriz|\n",
    "\n",
    "Ejemplos:"
   ]
  },
  {
   "cell_type": "code",
   "execution_count": 40,
   "metadata": {},
   "outputs": [
    {
     "data": {
      "text/plain": [
       "array([[ 2,  3,  5],\n",
       "       [20, 12,  4]])"
      ]
     },
     "execution_count": 40,
     "metadata": {},
     "output_type": "execute_result"
    }
   ],
   "source": [
    "x = np.array([[2, 3, 5], [20, 12, 4]])\n",
    "x"
   ]
  },
  {
   "cell_type": "code",
   "execution_count": 41,
   "metadata": {},
   "outputs": [
    {
     "data": {
      "text/plain": [
       "7.666666666666667"
      ]
     },
     "execution_count": 41,
     "metadata": {},
     "output_type": "execute_result"
    }
   ],
   "source": [
    "np.mean(x)"
   ]
  },
  {
   "cell_type": "code",
   "execution_count": 42,
   "metadata": {},
   "outputs": [
    {
     "data": {
      "text/plain": [
       "array([11. ,  7.5,  4.5])"
      ]
     },
     "execution_count": 42,
     "metadata": {},
     "output_type": "execute_result"
    }
   ],
   "source": [
    "np.mean(x, axis=0)"
   ]
  },
  {
   "cell_type": "code",
   "execution_count": 43,
   "metadata": {},
   "outputs": [
    {
     "data": {
      "text/plain": [
       "array([ 3.33333333, 12.        ])"
      ]
     },
     "execution_count": 43,
     "metadata": {},
     "output_type": "execute_result"
    }
   ],
   "source": [
    "np.mean(x, axis=1)"
   ]
  },
  {
   "cell_type": "code",
   "execution_count": 44,
   "metadata": {},
   "outputs": [
    {
     "data": {
      "text/plain": [
       "4.5"
      ]
     },
     "execution_count": 44,
     "metadata": {},
     "output_type": "execute_result"
    }
   ],
   "source": [
    "np.median(x)"
   ]
  },
  {
   "cell_type": "code",
   "execution_count": 45,
   "metadata": {},
   "outputs": [
    {
     "data": {
      "text/plain": [
       "6.394442031083626"
      ]
     },
     "execution_count": 45,
     "metadata": {},
     "output_type": "execute_result"
    }
   ],
   "source": [
    "np.std(x)"
   ]
  },
  {
   "cell_type": "markdown",
   "metadata": {},
   "source": [
    "## Matrices multidimensionales\n"
   ]
  },
  {
   "cell_type": "code",
   "execution_count": 46,
   "metadata": {},
   "outputs": [
    {
     "data": {
      "text/plain": [
       "array([[1., 1., 1., 1.],\n",
       "       [1., 1., 1., 1.],\n",
       "       [1., 1., 1., 1.],\n",
       "       [1., 1., 1., 1.]])"
      ]
     },
     "execution_count": 46,
     "metadata": {},
     "output_type": "execute_result"
    }
   ],
   "source": [
    "c = np.ones((4, 4))\n",
    "c*c"
   ]
  },
  {
   "cell_type": "code",
   "execution_count": 47,
   "metadata": {},
   "outputs": [
    {
     "data": {
      "text/plain": [
       "array([[4., 4., 4., 4.],\n",
       "       [4., 4., 4., 4.],\n",
       "       [4., 4., 4., 4.],\n",
       "       [4., 4., 4., 4.]])"
      ]
     },
     "execution_count": 47,
     "metadata": {},
     "output_type": "execute_result"
    }
   ],
   "source": [
    "# para hacer multiplicaciones con Numpy usamos el metodo 'dot()'\n",
    "c.dot(c)"
   ]
  },
  {
   "cell_type": "code",
   "execution_count": 48,
   "metadata": {},
   "outputs": [
    {
     "data": {
      "text/plain": [
       "array([[ 0,  1,  2,  3,  4],\n",
       "       [ 5,  6,  7,  8,  9],\n",
       "       [10, 11, 12, 13, 14],\n",
       "       [ 0,  1,  2,  3,  4],\n",
       "       [ 5,  6,  7,  8,  9]])"
      ]
     },
     "execution_count": 48,
     "metadata": {},
     "output_type": "execute_result"
    }
   ],
   "source": [
    "# uno de los ejes fundamentales del trabajo con matrices es el stacking/apilado, lo podemos hacer con \n",
    "# 'hstack' para apilado horizontal y 'vstack' para apilado vertical. De igual manera pode hacer split con\n",
    "# 'hsplit' para split horizontal y 'vsplit' para split vertical\n",
    "y = np.arange(15).reshape(3,5)\n",
    "x = np.arange(10).reshape(2,5)\n",
    "nueva_matriz = np.vstack((y,x))\n",
    "nueva_matriz"
   ]
  },
  {
   "cell_type": "code",
   "execution_count": 49,
   "metadata": {},
   "outputs": [
    {
     "data": {
      "text/plain": [
       "array([[ 0,  1,  2,  0,  1],\n",
       "       [ 3,  4,  5,  2,  3],\n",
       "       [ 6,  7,  8,  4,  5],\n",
       "       [ 9, 10, 11,  6,  7],\n",
       "       [12, 13, 14,  8,  9]])"
      ]
     },
     "execution_count": 49,
     "metadata": {},
     "output_type": "execute_result"
    }
   ],
   "source": [
    "y = np.arange(15).reshape(5,3)\n",
    "x = np.arange(10).reshape(5,2)\n",
    "nueva_matriz = np.hstack((y,x))\n",
    "nueva_matriz"
   ]
  },
  {
   "cell_type": "markdown",
   "metadata": {},
   "source": [
    "Todos los metodos que hemos analizado hasta ahora son muy utiles cuando estamos desarrollando datasets para aplcaciones que utilizan Machine Learning/Aprendizaje Estadistico. Podemos utilizar ***scipy.stats*** para ver los estadisticos descriptivos de un dataset. Ejemplo:"
   ]
  },
  {
   "cell_type": "code",
   "execution_count": 50,
   "metadata": {},
   "outputs": [
    {
     "data": {
      "text/plain": [
       "array([[ 4.74967329e-01,  8.11511902e-02,  1.04711900e-02,\n",
       "        -1.16916322e+00,  2.80103182e-03,  9.97021572e-01],\n",
       "       [ 4.86811434e-01,  7.87356057e-02,  1.02863592e-02,\n",
       "        -1.18729574e+00,  1.03437624e-02,  9.91322285e-01],\n",
       "       [ 4.44645120e-01,  8.49881878e-02,  1.33383928e-01,\n",
       "        -1.20006217e+00,  2.03402617e-03,  9.94223717e-01],\n",
       "       [ 5.13614981e-01,  8.61267017e-02, -2.00009132e-02,\n",
       "        -1.15901048e+00,  3.15985241e-03,  9.87571612e-01],\n",
       "       [ 5.38561409e-01,  8.28837074e-02, -2.81728180e-01,\n",
       "        -1.13021297e+00,  8.26287868e-03,  9.97528787e-01],\n",
       "       [ 5.04578310e-01,  9.22388915e-02,  8.97217594e-02,\n",
       "        -1.31864160e+00,  1.47828067e-02,  9.96747333e-01],\n",
       "       [ 5.34853907e-01,  9.27929164e-02, -1.03890704e-01,\n",
       "        -1.38947679e+00,  1.73960398e-02,  9.99939682e-01],\n",
       "       [ 5.23963815e-01,  8.13247757e-02, -1.03565660e-01,\n",
       "        -1.10849752e+00,  1.10026968e-03,  9.91824112e-01],\n",
       "       [ 5.16151644e-01,  1.00003793e-01,  1.80182283e-02,\n",
       "        -1.35267559e+00,  6.29814431e-03,  9.98073389e-01],\n",
       "       [ 5.33692047e-01,  8.75368282e-02, -2.86272805e-01,\n",
       "        -1.20831141e+00,  8.76959828e-03,  9.95090664e-01]])"
      ]
     },
     "execution_count": 50,
     "metadata": {},
     "output_type": "execute_result"
    }
   ],
   "source": [
    "from scipy import stats\n",
    "x= np.random.rand(100,10)\n",
    "n, min_max, mean, var, skew, kurt = stats.describe(x)\n",
    "nueva_matriz = np.vstack((mean, var, skew, kurt, min_max[0], min_max[1]))\n",
    "nueva_matriz.T"
   ]
  },
  {
   "cell_type": "code",
   "execution_count": 51,
   "metadata": {},
   "outputs": [
    {
     "name": "stdout",
     "output_type": "stream",
     "text": [
      "[0 1 2 3 4 5]\n",
      "2.5\n",
      "[-- 1 2 3 4 5]\n"
     ]
    },
    {
     "data": {
      "text/plain": [
       "3.0"
      ]
     },
     "execution_count": 51,
     "metadata": {},
     "output_type": "execute_result"
    }
   ],
   "source": [
    "# Otro modulo muy util en Numpy es el 'scipy.ma' que vamos a usar para enmascarar/ignorar\n",
    "# elementos cuando hacemos operaciones. Ejemplo:\n",
    "\n",
    "import numpy.ma as ma\n",
    "x = np.arange(6)\n",
    "print(x)\n",
    "print(x.mean())\n",
    "matriz_enmascarada = ma.masked_array(x, mask=[1,0,0,0,0,0])\n",
    "print(matriz_enmascarada)\n",
    "matriz_enmascarada.mean()"
   ]
  },
  {
   "cell_type": "code",
   "execution_count": 52,
   "metadata": {},
   "outputs": [
    {
     "data": {
      "text/plain": [
       "array([[nan, nan, nan, nan, nan],\n",
       "       [ 5.,  6.,  7.,  8.,  9.],\n",
       "       [10., 11., 12., 13., 14.],\n",
       "       [15., 16., 17., 18., 19.],\n",
       "       [20., 21., 22., 23., 24.]])"
      ]
     },
     "execution_count": 52,
     "metadata": {},
     "output_type": "execute_result"
    }
   ],
   "source": [
    "# Lo mismo pero con NaNs \n",
    "x = np.arange(25, dtype = float).reshape(5,5)\n",
    "x[x<5] = np.nan\n",
    "x"
   ]
  },
  {
   "cell_type": "code",
   "execution_count": 53,
   "metadata": {},
   "outputs": [
    {
     "data": {
      "text/plain": [
       "array([[12.5, 13.5, 14.5, 15.5, 16.5],\n",
       "       [ 5. ,  6. ,  7. ,  8. ,  9. ],\n",
       "       [10. , 11. , 12. , 13. , 14. ],\n",
       "       [15. , 16. , 17. , 18. , 19. ],\n",
       "       [20. , 21. , 22. , 23. , 24. ]])"
      ]
     },
     "execution_count": 53,
     "metadata": {},
     "output_type": "execute_result"
    }
   ],
   "source": [
    "np.where(np.isnan(x), ma.array(x, mask=np.isnan(x)).mean(axis=0), x)"
   ]
  },
  {
   "cell_type": "markdown",
   "metadata": {},
   "source": [
    "### Metodos\n",
    "\n",
    "|Metodo|Descripcion|\n",
    "|------|-----------|\n",
    "|np.concatenate|Unirse a la matriz en una secuencia con una matriz dada|\n",
    "|np.repeat|Repite el elemento de una matriz a lo largo de un eje específico|\n",
    "|np.delete|Devuelve una nueva matriz con los subarrays eliminados|\n",
    "|np.insert|Inserta valores antes del eje especificado|\n",
    "|np.unique|Encontrar valores unicos en la matriz|\n",
    "|np.tile|Crea una matriz repitiendo una entrada dada para un número dado de repeticiones|\n",
    "\n",
    "Cuando trabajamos con Machine Learning una de las tareas mas comunes consiste en indexar, cortar, reformar y redimenzionar. El termino de indexar es comumente usado en matematicas y en computer science. Cuando estamos usando Numpy la tarea mas recurrente es controlar y manipular los elementos dentro de una matriz.\n",
    "\n",
    "Ejemplos:"
   ]
  },
  {
   "cell_type": "code",
   "execution_count": 54,
   "metadata": {},
   "outputs": [
    {
     "data": {
      "text/plain": [
       "'Alemania'"
      ]
     },
     "execution_count": 54,
     "metadata": {},
     "output_type": "execute_result"
    }
   ],
   "source": [
    "# Indexar en una lista\n",
    "x = [\"USA\",\"Francia\", \"Alemania\",\"Inglaterra\"]\n",
    "x[2]"
   ]
  },
  {
   "cell_type": "code",
   "execution_count": 55,
   "metadata": {},
   "outputs": [
    {
     "data": {
      "text/plain": [
       "'France'"
      ]
     },
     "execution_count": 55,
     "metadata": {},
     "output_type": "execute_result"
    }
   ],
   "source": [
    "# Indexar en un tupple\n",
    "x = ('USA',3,\"France\",4)\n",
    "x[2]"
   ]
  },
  {
   "cell_type": "code",
   "execution_count": 56,
   "metadata": {},
   "outputs": [
    {
     "name": "stdout",
     "output_type": "stream",
     "text": [
      "[0 1 2 3 4 5 6 7 8 9]\n",
      "5\n",
      "8\n",
      "[2 3 4 5 6 7]\n",
      "[0 1 2 3 4 5 6 7 8 9]\n",
      "[2 4 6]\n"
     ]
    }
   ],
   "source": [
    "# Indexar con Numpy\n",
    "x = np.arange(10)\n",
    "print(x)\n",
    "print(x[5])\n",
    "print(x[-2])\n",
    "print(x[2:8])\n",
    "print(x[:])\n",
    "print(x[2:8:2])"
   ]
  },
  {
   "cell_type": "code",
   "execution_count": 57,
   "metadata": {},
   "outputs": [
    {
     "data": {
      "text/plain": [
       "array([[ 0,  1,  2,  3],\n",
       "       [ 4,  5,  6,  7],\n",
       "       [ 8,  9, 10, 11],\n",
       "       [12, 13, 14, 15]])"
      ]
     },
     "execution_count": 57,
     "metadata": {},
     "output_type": "execute_result"
    }
   ],
   "source": [
    "# lo mismo pero con matrices multidimensionales\n",
    "x = np.reshape(np.arange(16),(4,4))\n",
    "x"
   ]
  },
  {
   "cell_type": "code",
   "execution_count": 58,
   "metadata": {},
   "outputs": [
    {
     "data": {
      "text/plain": [
       "array([[ 4,  5,  6,  7],\n",
       "       [ 8,  9, 10, 11]])"
      ]
     },
     "execution_count": 58,
     "metadata": {},
     "output_type": "execute_result"
    }
   ],
   "source": [
    "x[1:3]"
   ]
  },
  {
   "cell_type": "code",
   "execution_count": 59,
   "metadata": {},
   "outputs": [
    {
     "data": {
      "text/plain": [
       "array([[ 1,  2],\n",
       "       [ 5,  6],\n",
       "       [ 9, 10],\n",
       "       [13, 14]])"
      ]
     },
     "execution_count": 59,
     "metadata": {},
     "output_type": "execute_result"
    }
   ],
   "source": [
    "x[:,1:3]"
   ]
  },
  {
   "cell_type": "code",
   "execution_count": 60,
   "metadata": {},
   "outputs": [
    {
     "data": {
      "text/plain": [
       "array([[ 5,  6],\n",
       "       [ 9, 10]])"
      ]
     },
     "execution_count": 60,
     "metadata": {},
     "output_type": "execute_result"
    }
   ],
   "source": [
    "x[1:3,1:3]"
   ]
  },
  {
   "cell_type": "markdown",
   "metadata": {},
   "source": [
    "Hasta ahora hemos 'cortado' las matrices en fila y columna, pero no hemos cortado los elementos de una manera más irregular o más dinámica, lo que significa que siempre los hemos 'cortado' de forma rectangular o cuadrada. Veamos una matriz de 4 * 4 que queremos dividir de la siguiente manera:\n",
    "<img src='../data/img/array.png'>\n",
    "Ahora hagamos el *slicing* de la imagen con codigo:"
   ]
  },
  {
   "cell_type": "code",
   "execution_count": 61,
   "metadata": {},
   "outputs": [
    {
     "data": {
      "text/plain": [
       "array([[ 0,  1,  2,  3],\n",
       "       [ 4,  5,  6,  7],\n",
       "       [ 8,  9, 10, 11],\n",
       "       [12, 13, 14, 15]])"
      ]
     },
     "execution_count": 61,
     "metadata": {},
     "output_type": "execute_result"
    }
   ],
   "source": [
    "x = np.reshape(np.arange(16),(4,4))\n",
    "x"
   ]
  },
  {
   "cell_type": "code",
   "execution_count": 62,
   "metadata": {},
   "outputs": [
    {
     "data": {
      "text/plain": [
       "array([ 0,  5, 11])"
      ]
     },
     "execution_count": 62,
     "metadata": {},
     "output_type": "execute_result"
    }
   ],
   "source": [
    "# primero especificamos las filas\n",
    "# depues especificamos las columnas\n",
    "x[[0,1,2],[0,1,3]]"
   ]
  },
  {
   "cell_type": "code",
   "execution_count": 63,
   "metadata": {},
   "outputs": [
    {
     "data": {
      "text/plain": [
       "array([[ 0,  1,  2,  3],\n",
       "       [ 4,  5,  6,  7],\n",
       "       [ 8,  9, 10, 11],\n",
       "       [12, 13, 14, 15]])"
      ]
     },
     "execution_count": 63,
     "metadata": {},
     "output_type": "execute_result"
    }
   ],
   "source": [
    "# cuando usamos 'reshape' lo que estamos haciendo es cambiar la forma de la matriz de forma temporal\n",
    "x = np.arange(16).reshape(4,4)\n",
    "x"
   ]
  },
  {
   "cell_type": "code",
   "execution_count": 64,
   "metadata": {},
   "outputs": [
    {
     "data": {
      "text/plain": [
       "array([[0, 1],\n",
       "       [2, 3]])"
      ]
     },
     "execution_count": 64,
     "metadata": {},
     "output_type": "execute_result"
    }
   ],
   "source": [
    "# cuando usamos 'resize' cambiamos la forma de la matriz de forma permanente \n",
    "np.resize(x,(2,2))"
   ]
  },
  {
   "cell_type": "code",
   "execution_count": 65,
   "metadata": {},
   "outputs": [
    {
     "data": {
      "text/plain": [
       "array([[ 0,  1,  2,  3,  4,  5],\n",
       "       [ 6,  7,  8,  9, 10, 11],\n",
       "       [12, 13, 14, 15,  0,  1],\n",
       "       [ 2,  3,  4,  5,  6,  7],\n",
       "       [ 8,  9, 10, 11, 12, 13],\n",
       "       [14, 15,  0,  1,  2,  3]])"
      ]
     },
     "execution_count": 65,
     "metadata": {},
     "output_type": "execute_result"
    }
   ],
   "source": [
    "np.resize(x,(6,6))"
   ]
  },
  {
   "cell_type": "code",
   "execution_count": 83,
   "metadata": {},
   "outputs": [
    {
     "ename": "ValueError",
     "evalue": "operands could not be broadcast together with shapes (4,4) (2,3) ",
     "output_type": "error",
     "traceback": [
      "\u001b[0;31m---------------------------------------------------------------------------\u001b[0m",
      "\u001b[0;31mValueError\u001b[0m                                Traceback (most recent call last)",
      "\u001b[0;32m<ipython-input-83-029aa9d5b3d6>\u001b[0m in \u001b[0;36m<module>\u001b[0;34m\u001b[0m\n\u001b[1;32m      5\u001b[0m \u001b[0mx\u001b[0m \u001b[0;34m=\u001b[0m \u001b[0mnp\u001b[0m\u001b[0;34m.\u001b[0m\u001b[0marange\u001b[0m\u001b[0;34m(\u001b[0m\u001b[0;36m16\u001b[0m\u001b[0;34m)\u001b[0m\u001b[0;34m.\u001b[0m\u001b[0mreshape\u001b[0m\u001b[0;34m(\u001b[0m\u001b[0;36m4\u001b[0m\u001b[0;34m,\u001b[0m\u001b[0;36m4\u001b[0m\u001b[0;34m)\u001b[0m\u001b[0;34m\u001b[0m\u001b[0;34m\u001b[0m\u001b[0m\n\u001b[1;32m      6\u001b[0m \u001b[0my\u001b[0m \u001b[0;34m=\u001b[0m \u001b[0mnp\u001b[0m\u001b[0;34m.\u001b[0m\u001b[0marange\u001b[0m\u001b[0;34m(\u001b[0m\u001b[0;36m6\u001b[0m\u001b[0;34m)\u001b[0m\u001b[0;34m.\u001b[0m\u001b[0mreshape\u001b[0m\u001b[0;34m(\u001b[0m\u001b[0;36m2\u001b[0m\u001b[0;34m,\u001b[0m\u001b[0;36m3\u001b[0m\u001b[0;34m)\u001b[0m\u001b[0;34m\u001b[0m\u001b[0;34m\u001b[0m\u001b[0m\n\u001b[0;32m----> 7\u001b[0;31m \u001b[0mx\u001b[0m\u001b[0;34m+\u001b[0m\u001b[0my\u001b[0m\u001b[0;34m\u001b[0m\u001b[0;34m\u001b[0m\u001b[0m\n\u001b[0m",
      "\u001b[0;31mValueError\u001b[0m: operands could not be broadcast together with shapes (4,4) (2,3) "
     ]
    }
   ],
   "source": [
    "# uno de los terminos mas importante es el 'broadcasting'\n",
    "# numpy tiene dos reglas para el broadcasting\n",
    "# 1. las matrices tienen las mismas dimensiones\n",
    "# 2. o una de ella es 1\n",
    "x = np.arange(16).reshape(4,4)\n",
    "y = np.arange(6).reshape(2,3)\n",
    "x+y"
   ]
  },
  {
   "cell_type": "code",
   "execution_count": 71,
   "metadata": {},
   "outputs": [
    {
     "name": "stdout",
     "output_type": "stream",
     "text": [
      "[[1. 1. 1. 1.]\n",
      " [1. 1. 1. 1.]\n",
      " [1. 1. 1. 1.]\n",
      " [1. 1. 1. 1.]]\n",
      "[0 1 2 3]\n"
     ]
    },
    {
     "data": {
      "text/plain": [
       "array([[0., 1., 2., 3.],\n",
       "       [0., 1., 2., 3.],\n",
       "       [0., 1., 2., 3.],\n",
       "       [0., 1., 2., 3.]])"
      ]
     },
     "execution_count": 71,
     "metadata": {},
     "output_type": "execute_result"
    }
   ],
   "source": [
    "x = np.ones(16).reshape(4,4)\n",
    "y = np.arange(4)\n",
    "print(x)\n",
    "print(y)\n",
    "x*y"
   ]
  },
  {
   "cell_type": "code",
   "execution_count": 68,
   "metadata": {},
   "outputs": [
    {
     "data": {
      "text/plain": [
       "array([[0, 1],\n",
       "       [2, 3]])"
      ]
     },
     "execution_count": 68,
     "metadata": {},
     "output_type": "execute_result"
    }
   ],
   "source": [
    "x = np.arange(4).reshape(2,2)\n",
    "x"
   ]
  },
  {
   "cell_type": "code",
   "execution_count": 69,
   "metadata": {},
   "outputs": [
    {
     "data": {
      "text/plain": [
       "array([[0, 1]])"
      ]
     },
     "execution_count": 69,
     "metadata": {},
     "output_type": "execute_result"
    }
   ],
   "source": [
    "y = np.arange(2).reshape(1,2)\n",
    "y"
   ]
  },
  {
   "cell_type": "code",
   "execution_count": 70,
   "metadata": {},
   "outputs": [
    {
     "data": {
      "text/plain": [
       "array([[0, 1],\n",
       "       [0, 3]])"
      ]
     },
     "execution_count": 70,
     "metadata": {},
     "output_type": "execute_result"
    }
   ],
   "source": [
    "x*y"
   ]
  },
  {
   "cell_type": "code",
   "execution_count": null,
   "metadata": {},
   "outputs": [],
   "source": []
  }
 ],
 "metadata": {
  "kernelspec": {
   "display_name": "Python 3",
   "language": "python",
   "name": "python3"
  },
  "language_info": {
   "codemirror_mode": {
    "name": "ipython",
    "version": 3
   },
   "file_extension": ".py",
   "mimetype": "text/x-python",
   "name": "python",
   "nbconvert_exporter": "python",
   "pygments_lexer": "ipython3",
   "version": "3.6.7"
  }
 },
 "nbformat": 4,
 "nbformat_minor": 1
}
