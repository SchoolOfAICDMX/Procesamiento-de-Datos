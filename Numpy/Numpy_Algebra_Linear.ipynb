{
 "cells": [
  {
   "cell_type": "markdown",
   "metadata": {},
   "source": [
    "# Algebra Linear con Numpy\n",
    "\n",
    "Uno de las ramas mas comunes en las matematicas es el *Algebra Linear* la cual se enfoca en ecuaciones y el mapeo de espacios lineales aka espacios vectoriales. En computer science vamos a utilizar mucho el algebra linear cuando trabajemos con Machine Learning, en estos proyectos vamos a estar trabajando con matrices de alta dimension las cuales podemos transformar en ecuaciones lineares con las que podemos comparar las relaciones entre los elementos de las distintas matrices.\n",
    "\n",
    "Vamos a suponer el ejemplo anterior en donde queremos localizar a un ladron en una ciudad, anteriormente esto se lograria dandole una foto del sospechoso a todos los policias y ellos tratarian de encontrarlo en toda la ciudad haciendo de esto una tarea MUY ineficiente. Para que un algoritmo pueda hacer una tarea similar tenemos que pensar en las tareas que se deben cumplir en el mas alto detalle posible para que la maquina pueda entender la tarea que queremos que haga.\n",
    "\n",
    "Supongamos que la imagen del ladron es de 512 * 512, cada pixel seria un punto en 262,144 en pixeles aka **son un chingo** por lo que va a ser necesario utilizar algebra linear para poder manipular cualquiera de los pixeles dentro de la matriz. Por si las dudas veamos un ejemplo sencillo de como arreglariamos esto con Deep Learning. Una manera muy sencilla de entender que es esto es pensar en un algoritmo que usa una red neuronal artificial (ANN) para aprender el output que queremos mediante ajustes a la ponderacion que conectan las capas, ejemplo:\n",
    "\n",
    "\n",
    "<img src='../data/img/neuralnetwork.png'>\n",
    "\n",
    "Las redes neuronales almacenan pesos entre capas y valores de sesgo en matrices. Como estos son los parámetros que intenta sintonizar con nuestro modelo de Deep Learning para minimizar el loss function, continuamente realiza cálculos y los actualiza. En general, los modelos Machine Learning requieren cálculos complejos y necesitan ser entrenados con datasets grandes para proporcionar resultados eficientes. Esta es la razon por la cual el algebra linear es importante cuando hablamos de Machine Learning.\n",
    "\n",
    "## Matemáticas vectoriales y matriciales"
   ]
  },
  {
   "cell_type": "code",
   "execution_count": 4,
   "metadata": {},
   "outputs": [
    {
     "name": "stdout",
     "output_type": "stream",
     "text": [
      "[[0 1]\n",
      " [2 3]\n",
      " [4 5]]\n",
      "[[0 1 2 3 4]\n",
      " [5 6 7 8 9]]\n"
     ]
    }
   ],
   "source": [
    "import numpy as np \n",
    "a = np.arange(6).reshape(3,2) \n",
    "b = np.arange(10).reshape(2,5) \n",
    "print(a) \n",
    "print(b)"
   ]
  },
  {
   "cell_type": "code",
   "execution_count": 5,
   "metadata": {},
   "outputs": [
    {
     "data": {
      "text/plain": [
       "array([[ 5,  6,  7,  8,  9],\n",
       "       [15, 20, 25, 30, 35],\n",
       "       [25, 34, 43, 52, 61]])"
      ]
     },
     "execution_count": 5,
     "metadata": {},
     "output_type": "execute_result"
    }
   ],
   "source": [
    "np.dot(a,b)"
   ]
  },
  {
   "cell_type": "code",
   "execution_count": 6,
   "metadata": {},
   "outputs": [
    {
     "data": {
      "text/plain": [
       "array([[ 5,  6,  7,  8,  9],\n",
       "       [15, 20, 25, 30, 35],\n",
       "       [25, 34, 43, 52, 61]])"
      ]
     },
     "execution_count": 6,
     "metadata": {},
     "output_type": "execute_result"
    }
   ],
   "source": [
    "np.matmul(a,b)"
   ]
  },
  {
   "cell_type": "code",
   "execution_count": 7,
   "metadata": {},
   "outputs": [
    {
     "data": {
      "text/plain": [
       "array([[ 5,  6,  7,  8,  9],\n",
       "       [15, 20, 25, 30, 35],\n",
       "       [25, 34, 43, 52, 61]])"
      ]
     },
     "execution_count": 7,
     "metadata": {},
     "output_type": "execute_result"
    }
   ],
   "source": [
    "a@b"
   ]
  },
  {
   "cell_type": "markdown",
   "metadata": {},
   "source": [
    "Volvamos a nuestro ejemplo del ladron, tenemos a 3 policias siguiendo a 3 sospechosos en distintas partes de la ciudad, una vez que los detienen los van a comparar con el retrato hablado del ladron, esto es ineficiente y poco practico, la pregunta ahora es como un algoritmo podria decidir a cual de los sospechosos deben llevar a la carcel? \n",
    "\n",
    "Veamos una representacion geometrica de como el algoritmo platearia este problema. \n",
    "\n",
    "<img src='../data/img/geometric.png'>\n",
    "\n",
    "Como puedes ver esto es un ejemplo muy simple de como el algoritmo va a mostrar la similitud entre ambos vectores, en este caso si la direccion de uno de los sospechosos se acerca al punto 'A', lo va a arrestar. Si esta en la direccion de 'B' lo dejara libre.  "
   ]
  },
  {
   "cell_type": "code",
   "execution_count": 10,
   "metadata": {},
   "outputs": [
    {
     "data": {
      "text/plain": [
       "array([[ 1700,  1855,  2010,  2165,  2320],\n",
       "       [ 5300,  5770,  6240,  6710,  7180],\n",
       "       [ 8900,  9685, 10470, 11255, 12040],\n",
       "       [12500, 13600, 14700, 15800, 16900]])"
      ]
     },
     "execution_count": 10,
     "metadata": {},
     "output_type": "execute_result"
    }
   ],
   "source": [
    "# si queremos multiplicar 2 o mas matrices en una sola funcion usar 'linalg.multi_dot()' es conveniente\n",
    "from numpy.linalg import multi_dot \n",
    "a = np.arange(12).reshape(4,3) \n",
    "b = np.arange(15).reshape(3,5) \n",
    "c = np.arange(25).reshape(5,5)\n",
    "multi_dot([a, b, c])"
   ]
  },
  {
   "cell_type": "code",
   "execution_count": 12,
   "metadata": {},
   "outputs": [
    {
     "data": {
      "text/plain": [
       "array([[ 1700,  1855,  2010,  2165,  2320],\n",
       "       [ 5300,  5770,  6240,  6710,  7180],\n",
       "       [ 8900,  9685, 10470, 11255, 12040],\n",
       "       [12500, 13600, 14700, 15800, 16900]])"
      ]
     },
     "execution_count": 12,
     "metadata": {},
     "output_type": "execute_result"
    }
   ],
   "source": [
    "# lo mismo pero usando 'np.dot()', con el inconveniente que debes saber cual es el orden de ejecucion\n",
    "# que tomara menos tiempo\n",
    "a.dot(b).dot(c)"
   ]
  },
  {
   "cell_type": "code",
   "execution_count": 24,
   "metadata": {},
   "outputs": [
    {
     "name": "stdout",
     "output_type": "stream",
     "text": [
      "Multi_dot tarda 0.1664869785308838 segundos.\n",
      "Chain dot tarda 0.17176389694213867 segundos.\n"
     ]
    }
   ],
   "source": [
    "# veamos una comparacion de tiempo entre los dos metodos\n",
    "import numpy as np\n",
    "from numpy.linalg import multi_dot\n",
    "import time\n",
    "a = np.arange(120000).reshape(400,300) \n",
    "b = np.arange(150000).reshape(300,500) \n",
    "c = np.arange(200000).reshape(500,400)\n",
    "start = time.time() \n",
    "multi_dot([a,b,c]) \n",
    "ft = time.time()-start \n",
    "print ('Multi_dot tarda', time.time()-start,'segundos.') \n",
    "start_ft = time.time()\n",
    "a.dot(b).dot(c) \n",
    "print ('Chain dot tarda', time.time()-start_ft,'segundos.')"
   ]
  },
  {
   "cell_type": "markdown",
   "metadata": {},
   "source": [
    "Como podemos observar el metodo *multi_dot()* reduce el tiempo de ejecucion aun con matrices chicas, este gap o diferencia incrementa con en aumento de dimensiones y cantidad de matrices."
   ]
  },
  {
   "cell_type": "code",
   "execution_count": null,
   "metadata": {},
   "outputs": [],
   "source": []
  }
 ],
 "metadata": {
  "kernelspec": {
   "display_name": "Python 3",
   "language": "python",
   "name": "python3"
  },
  "language_info": {
   "codemirror_mode": {
    "name": "ipython",
    "version": 3
   },
   "file_extension": ".py",
   "mimetype": "text/x-python",
   "name": "python",
   "nbconvert_exporter": "python",
   "pygments_lexer": "ipython3",
   "version": "3.6.7"
  }
 },
 "nbformat": 4,
 "nbformat_minor": 2
}
